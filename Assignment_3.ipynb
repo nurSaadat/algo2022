{
 "cells": [
  {
   "cell_type": "code",
   "execution_count": 18,
   "metadata": {},
   "outputs": [],
   "source": [
    "import os\n",
    "from math import *\n",
    "from time import perf_counter_ns\n",
    "import gc\n",
    "from random import choice\n",
    "import copy\n",
    "os.chdir('dataset')"
   ]
  },
  {
   "cell_type": "markdown",
   "metadata": {},
   "source": [
    "# Parse Input"
   ]
  },
  {
   "cell_type": "code",
   "execution_count": 3,
   "metadata": {},
   "outputs": [],
   "source": [
    "def parse_input_file(file_address):\n",
    "    # store vertices and edges in separate sets\n",
    "    vertices = set()\n",
    "    edges = [] \n",
    "    # read file\n",
    "    with open(file_address) as f:\n",
    "        lines = f.readlines()\n",
    "    num_V_E = [int(x) for x in lines[0].split()]\n",
    "    lines = lines[1:]\n",
    "    # populate sets\n",
    "    for line in lines:\n",
    "        x = line.split()\n",
    "        vertices.add(x[0])\n",
    "        vertices.add(x[1])\n",
    "        edges.append((x[0], x[1], int(x[2])))\n",
    "    vertices = list(vertices)\n",
    "    return vertices, edges, num_V_E"
   ]
  },
  {
   "cell_type": "code",
   "execution_count": 54,
   "metadata": {},
   "outputs": [],
   "source": [
    "graphs = []\n",
    "for file in os.listdir():\n",
    "    vertices, edges, num_V_E = parse_input_file(file) \n",
    "    graphs.append((num_V_E, vertices, edges))"
   ]
  },
  {
   "cell_type": "code",
   "execution_count": 6,
   "metadata": {},
   "outputs": [],
   "source": [
    "#graphs #a list of graphs as tuples, the tuples contain: \n",
    "#[0]: a list containing number of vertices and edges\n",
    "#[1]: a list of vertices' names\n",
    "#[2]: a list of edges as tuples (u,v,w)"
   ]
  },
  {
   "cell_type": "markdown",
   "metadata": {},
   "source": [
    "# Stoer and Wagner's deterministic algorithm "
   ]
  },
  {
   "cell_type": "code",
   "execution_count": 67,
   "metadata": {},
   "outputs": [],
   "source": [
    "\n",
    "def findCut(V,E):\n",
    "        rV,rW, nV = findMax(V,E)\n",
    "        if nV != None:\n",
    "            E,_,_ = updateDict(rV,nV,E)\n",
    "        return rW, E\n",
    "\n",
    "def findMax(V,E):\n",
    "    Ecop = copy.deepcopy(E)\n",
    "    seen = []\n",
    "    V2 = None\n",
    "    while(len(Ecop) > 2):\n",
    "        highestWeight = Ecop[V][0]\n",
    "        Ecop, V, V2 = updateDict(V,highestWeight[0],Ecop)\n",
    "    remainingVertex = list(Ecop.keys())\n",
    "    remainingWeight = Ecop[remainingVertex[0]][0][1]\n",
    "    V1 = remainingVertex[0]\n",
    "    return V1, remainingWeight, V2\n",
    "\n",
    "def trueLast(listOfV):\n",
    "    x = listOfV[1].rfind('&')\n",
    "    return listOfV[0],listOfV[1][x+1:]\n",
    "\n",
    "def updateDict(oldTouched,newTouched, EdgeDict, doSort = True):\n",
    "    list1 = EdgeDict[oldTouched]\n",
    "    list2 = EdgeDict[newTouched]\n",
    "    newName = oldTouched+'&'+newTouched\n",
    "    EdgeDict.pop(oldTouched)\n",
    "    EdgeDict.pop(newTouched)\n",
    "    EdgeDict[newName] = []\n",
    "    for i in range(len(list1)):\n",
    "        for j in range(len(list2)):\n",
    "            if list1[i] == [] or list2[j] == []:\n",
    "                continue\n",
    "            if list1[i][0] == oldTouched or list1[i][0] == newTouched:\n",
    "                list1[i] = []\n",
    "                continue\n",
    "            if list2[j][0] == oldTouched or list2[j][0] == newTouched:\n",
    "                list2[j] = []\n",
    "                continue\n",
    "            if list1[i][0] == list2[j][0]:\n",
    "                EdgeDict[newName].append((list1[i][0],list1[i][1]+list2[j][1]))\n",
    "                list1[i] = []\n",
    "                list2[j] = []\n",
    "    \n",
    "    for i in range(len(list1)):\n",
    "        if list1[i] == []:\n",
    "            continue\n",
    "        EdgeDict[newName].append((list1[i][0],list1[i][1]))\n",
    "        list1[i] = []\n",
    "    for j in range(len(list2)):\n",
    "        if list2[j] == []:\n",
    "            continue\n",
    "        EdgeDict[newName].append((list2[j][0],list2[j][1]))\n",
    "        list2[j] = []\n",
    "        \n",
    "    for u,w in EdgeDict[newName]:\n",
    "        if u == oldTouched:\n",
    "            u = newName\n",
    "        if u == newTouched:\n",
    "            u = newName\n",
    "        listOld = EdgeDict[u]\n",
    "        for i in range(len(listOld)):\n",
    "            if listOld[i][0] == oldTouched or listOld[i][0] == newTouched:\n",
    "                listOld[i] = (newName,w)\n",
    "        listOld = list(dict.fromkeys(listOld))\n",
    "        if doSort == True:\n",
    "            EdgeDict[u] = sorted(listOld,reverse=True, key=lambda e:e[1])\n",
    "        else:\n",
    "            EdgeDict[u] = listOld\n",
    "        EdgeDict = deleteSelfRef(EdgeDict)\n",
    "    return EdgeDict, newName, newTouched\n",
    "\n",
    "def deleteSelfRef(EdgeDict):\n",
    "    for selfName in list(EdgeDict.keys()):\n",
    "        listSelf = EdgeDict[selfName]\n",
    "        for i in range(len(listSelf)):\n",
    "            if listSelf[i][0] == selfName:\n",
    "                listSelf.pop(i)\n",
    "                break\n",
    "    return EdgeDict\n",
    "\n",
    "def createDict(verticesTuple): #this creates a dictionary with \"v\" as key and (u,w) as values, also sorts it! for faster access.\n",
    "    vert = {}\n",
    "    for (u,v,w) in verticesTuple:\n",
    "        if u not in vert:\n",
    "            vert[u] = []\n",
    "        if v not in vert:\n",
    "            vert[v] = []\n",
    "        vert[u].append((v,int(w)))\n",
    "        vert[v].append((u,int(w)))\n",
    "    for v in vert:\n",
    "        vert[v] = sorted(vert[v],reverse=True, key=lambda e:e[1])\n",
    "    return vert"
   ]
  },
  {
   "cell_type": "code",
   "execution_count": 68,
   "metadata": {},
   "outputs": [
    {
     "name": "stdout",
     "output_type": "stream",
     "text": [
      "3056\n"
     ]
    }
   ],
   "source": [
    "#start with arbitary vertex\n",
    "graph1 = graphs[0]\n",
    "leftVertices = graph1[0][0]\n",
    "vertices = graph1[1]\n",
    "edges = createDict(graph1[2])\n",
    "startV = vertices[0]\n",
    "cuts=[]\n",
    "while leftVertices > 2:\n",
    "    cutWeight, edges = findCut(startV,edges)\n",
    "    cuts.append(cutWeight)\n",
    "    leftVertices -= 1\n",
    "print(min(cuts))\n",
    "#while there is more than one vertex\n",
    "##find a cut (find a node it's edge to V is maximized, then create a supernode, find a vertex\n",
    "##that has the highest weight to the super node, go on until we reach the last two! make these a super node!)\n",
    "##make the graph smaller!(continue what we did last time and store the last weight each time, minimum of them is the min cut)"
   ]
  },
  {
   "cell_type": "markdown",
   "metadata": {},
   "source": [
    "# Karger and Stein's randomized algorithm"
   ]
  },
  {
   "cell_type": "code",
   "execution_count": 78,
   "metadata": {},
   "outputs": [
    {
     "name": "stdout",
     "output_type": "stream",
     "text": [
      "3056\n"
     ]
    }
   ],
   "source": [
    "#contraction of an edge:\n",
    "#while len V > 2\n",
    "# pick edge from E randomly\n",
    "# contract E\n",
    "#return only cut left!\n",
    "graph1 = graphs[0]\n",
    "edges = createDict(graph1[2])\n",
    "cuts=[]\n",
    "for i in range(0,10):\n",
    "    leftVertices = graph1[0][0]\n",
    "    Ecop = copy.deepcopy(edges)\n",
    "    while leftVertices > 2:\n",
    "        randV = choice(list(Ecop.keys()))\n",
    "        randE = choice(Ecop[randV])\n",
    "        Ecop,_,_ = updateDict(randV,randE[0],Ecop,False)\n",
    "        leftVertices -=1\n",
    "    cuts.append(Ecop[list(Ecop.keys())[0]][0][1]) #a very ugly way to get the weight but it works!\n",
    "print(min(cuts))\n"
   ]
  },
  {
   "cell_type": "code",
   "execution_count": null,
   "metadata": {},
   "outputs": [],
   "source": []
  },
  {
   "cell_type": "code",
   "execution_count": null,
   "metadata": {},
   "outputs": [],
   "source": []
  },
  {
   "cell_type": "code",
   "execution_count": null,
   "metadata": {},
   "outputs": [],
   "source": []
  }
 ],
 "metadata": {
  "kernelspec": {
   "display_name": "Python 3",
   "language": "python",
   "name": "python3"
  },
  "language_info": {
   "codemirror_mode": {
    "name": "ipython",
    "version": 3
   },
   "file_extension": ".py",
   "mimetype": "text/x-python",
   "name": "python",
   "nbconvert_exporter": "python",
   "pygments_lexer": "ipython3",
   "version": "3.7.0"
  }
 },
 "nbformat": 4,
 "nbformat_minor": 2
}
